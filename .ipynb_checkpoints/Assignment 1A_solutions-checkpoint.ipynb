{
 "cells": [
  {
   "cell_type": "markdown",
   "id": "b736004c",
   "metadata": {},
   "source": [
    "-"
   ]
  },
  {
   "cell_type": "markdown",
   "id": "42967eee",
   "metadata": {},
   "source": [
    "# <font color=Navy> Assignment -1A"
   ]
  },
  {
   "cell_type": "markdown",
   "id": "48d7b14f",
   "metadata": {},
   "source": [
    "# <font color=Red>Assignment 1A-I\n",
    "<font color=navy>    One of the leading finance organizations have five different saving schemes namely, Scheme1, Schem2, Scheme3, Scheme4 and Scheme5. It is planning to offer a personalized finance assistance to its customers so that, they can invest on the right scheme to get maximum returns(profit) based on their income and deduction. \n",
    " You as a Python programmer help the finance service by implementing few functionalities given below:\n",
    "\n",
    "    "
   ]
  },
  {
   "cell_type": "markdown",
   "id": "ee0b1ed1",
   "metadata": {},
   "source": [
    "<font color=red>1.\tA list of schemes: [\"Scheme1\", \"Scheme2\",\"Scheme3\",\"Scheme4\",\"Scheme5\"] and the corresponding features of the scheme is given in the list as :    [6.9, 2, 'yes', 'yes'],[7.1, 15, 'yes','no'],[7.6,21,'yes','no'],[6.8,5,'yes','no'],[7.4,5,'yes','no']. The features of the scheme in list can be interpreted as [Interest Rate, Tenure, Tax deduction, Interest Taxable]. Create a dictionary that stores schemes as keys and features of scheme as value."
   ]
  },
  {
   "cell_type": "code",
   "execution_count": 1,
   "id": "c543786b",
   "metadata": {},
   "outputs": [],
   "source": [
    "Key_scheme=[\"Scheme1\", \"Scheme2\",\"Scheme3\",\"Scheme4\",\"Scheme5\"]\n",
    "Value_scheme = [[6.9, 2, 'yes', 'yes'],[7.1, 15, 'yes','no'],[7.6,21,'yes','no'],[6.8,5,'yes','no'],[7.4,5,'yes','no']]"
   ]
  },
  {
   "cell_type": "code",
   "execution_count": 2,
   "id": "53371529",
   "metadata": {},
   "outputs": [
    {
     "name": "stdout",
     "output_type": "stream",
     "text": [
      "Resultant dictionary is : {'Scheme1': [6.9, 2, 'yes', 'yes'], 'Scheme2': [7.1, 15, 'yes', 'no'], 'Scheme3': [7.6, 21, 'yes', 'no'], 'Scheme4': [6.8, 5, 'yes', 'no'], 'Scheme5': [7.4, 5, 'yes', 'no']}\n"
     ]
    }
   ],
   "source": [
    "Schemes = {}\n",
    "for key in Key_scheme:\n",
    "    for value in Value_scheme:\n",
    "        Schemes[key] = value\n",
    "        Value_scheme.remove(value)\n",
    "        break  \n",
    "  \n",
    "# Printing resultant dictionary \n",
    "print (\"Resultant dictionary is : \" +  str(Schemes))"
   ]
  },
  {
   "cell_type": "code",
   "execution_count": null,
   "id": "504e79be",
   "metadata": {},
   "outputs": [],
   "source": []
  },
  {
   "cell_type": "markdown",
   "id": "ba6a0ce9",
   "metadata": {},
   "source": [
    "<font color=red>2.\tDisplay all those Schemes where there is Taxable Interest = “No”."
   ]
  },
  {
   "cell_type": "code",
   "execution_count": 3,
   "id": "3836c852",
   "metadata": {},
   "outputs": [
    {
     "name": "stdout",
     "output_type": "stream",
     "text": [
      "SAVING SCHEME \t INTEREST RATE \t TENURE \t TAX DEDUCTION \t INTRST TAXABLE\n",
      "Scheme2 \t\t 7.1 \t\t 15 \t\t yes \t\t no\n",
      "Scheme3 \t\t 7.6 \t\t 21 \t\t yes \t\t no\n",
      "Scheme4 \t\t 6.8 \t\t 5 \t\t yes \t\t no\n",
      "Scheme5 \t\t 7.4 \t\t 5 \t\t yes \t\t no\n"
     ]
    }
   ],
   "source": [
    "#2.Display all those Schemes in the below mentioned formats :\n",
    "\n",
    "print('SAVING SCHEME','\\t','INTEREST RATE','\\t','TENURE','\\t','TAX DEDUCTION','\\t','INTRST TAXABLE')\n",
    "for key, value in Schemes.items():\n",
    "    if value[3]=='no':\n",
    "        print(key ,'\\t\\t',value[0],'\\t\\t',value[1],'\\t\\t',value[2],'\\t\\t',value[3])\n",
    "    else:\n",
    "        continue"
   ]
  },
  {
   "cell_type": "markdown",
   "id": "f5b580c0",
   "metadata": {},
   "source": [
    "<font color=red>3. Read the user's income(in $) as input.\n",
    "Also, read Vehicle loan, Peronal loan, housing loan as input and store the loan amount in a list."
   ]
  },
  {
   "cell_type": "code",
   "execution_count": 4,
   "id": "fb181874",
   "metadata": {},
   "outputs": [
    {
     "name": "stdout",
     "output_type": "stream",
     "text": [
      "please enter the Income in ($) : 100000\n"
     ]
    }
   ],
   "source": [
    "income=int(input(\"please enter the Income in ($) : \"))"
   ]
  },
  {
   "cell_type": "code",
   "execution_count": 13,
   "id": "5fa6119e",
   "metadata": {
    "scrolled": true
   },
   "outputs": [
    {
     "name": "stdout",
     "output_type": "stream",
     "text": [
      "Enter the Loan amount if any \n",
      "enter the Vehicle loan , enter 0 if not applicable\n",
      "10000\n",
      "enter the Personal loan , enter 0 if not applicable\n",
      "0\n",
      "enter the Home loan , enter 0 if not applicable\n",
      "20000\n",
      "[10000, 0, 20000]\n",
      "Total loan\n",
      "30000\n"
     ]
    }
   ],
   "source": [
    "loan=[]\n",
    "print('Enter the Loan amount if any ')\n",
    "print('enter the Vehicle loan , enter 0 if not applicable')\n",
    "l=int(input())\n",
    "loan.append(l)\n",
    "print('enter the Personal loan , enter 0 if not applicable')\n",
    "l=int(input())\n",
    "loan.append(l)\n",
    "print('enter the Home loan , enter 0 if not applicable')\n",
    "l=int(input())\n",
    "loan.append(l)\n",
    "print(loan)\n",
    "print('Total loan')\n",
    "print(sum(loan))"
   ]
  },
  {
   "cell_type": "markdown",
   "id": "ed66b0a4",
   "metadata": {},
   "source": [
    "<font color=red>4.\tWrite a function calculate_deduction () to calculate the total deduction using the formula:    Deduction = Tax + total loan amount  by accepting income and loan amount as parameter,  and return the Deduction.<br>\n",
    "Tax can be calculated based on below criteria:<br>\n",
    "income ($)\trate<br>\n",
    "0-10000\t10%<br>\n",
    "10001- 40000\t12%<br>\n",
    "40001- 86000\t22%<br>\n",
    "86001- 164000\t24%<br>\n",
    "164001 +\t35%<br>\n"
   ]
  },
  {
   "cell_type": "code",
   "execution_count": 22,
   "id": "94551cf7",
   "metadata": {},
   "outputs": [],
   "source": [
    "def cal_tax(income):\n",
    "    if income>0 and income<10000:\n",
    "        tax=10/100\n",
    "    elif income>10000 and income<40000:\n",
    "        tax=12/100\n",
    "    elif income>40000 and income<86000:\n",
    "        tax=22/100\n",
    "    elif income>86000 and income<164000:\n",
    "        tax=24/100\n",
    "    else:\n",
    "        tax=35/100\n",
    "    print('TAX_SLAB=',tax)\n",
    "    return tax"
   ]
  },
  {
   "cell_type": "code",
   "execution_count": 23,
   "id": "aad8cd6a",
   "metadata": {},
   "outputs": [],
   "source": [
    "def calculate_deduction(income,loan):\n",
    "    tax=cal_tax(income)\n",
    "   \n",
    "    deduction= sum(loan)+ tax * income\n",
    "    return deduction"
   ]
  },
  {
   "cell_type": "code",
   "execution_count": 24,
   "id": "1d143635",
   "metadata": {},
   "outputs": [
    {
     "name": "stdout",
     "output_type": "stream",
     "text": [
      "TAX_SLAB= 0.24\n",
      "Total Deduction [Tax + total Loan] = 54000.0\n"
     ]
    }
   ],
   "source": [
    "deduction= calculate_deduction(income,loan)\n",
    "print('Total Deduction [Tax + total Loan] =',deduction)\n"
   ]
  },
  {
   "cell_type": "markdown",
   "id": "e4a7e339",
   "metadata": {},
   "source": [
    "<font color=red>5.\tWrite a function check_invstable_amt() that takes income and deduction as parameter and calculates amount investable =  income - deduction. The function should return amount investable if it is greater than the 40% of the income. Otherwise, it should return 0(zero)."
   ]
  },
  {
   "cell_type": "code",
   "execution_count": 27,
   "id": "cc380869",
   "metadata": {},
   "outputs": [],
   "source": [
    "def check_invstable_amt(income,deduction):\n",
    "    minimum=(40/100)*income\n",
    "    Left_out_amount= income - deduction\n",
    "    if Left_out_amount > minimum:\n",
    "        return Left_out_amount\n",
    "    else:\n",
    "        return 0\n",
    "        "
   ]
  },
  {
   "cell_type": "code",
   "execution_count": 28,
   "id": "1ad058c1",
   "metadata": {},
   "outputs": [
    {
     "name": "stdout",
     "output_type": "stream",
     "text": [
      "AMOUNT_Investable: 46000.0\n"
     ]
    }
   ],
   "source": [
    "#Main driver Program\n",
    "investable_amount=check_invstable_amt(income,deduction)\n",
    "print('AMOUNT_Investable:',investable_amount)\n"
   ]
  },
  {
   "cell_type": "code",
   "execution_count": null,
   "id": "7a18af04",
   "metadata": {},
   "outputs": [],
   "source": []
  },
  {
   "cell_type": "code",
   "execution_count": 29,
   "id": "cc42f4f6",
   "metadata": {},
   "outputs": [],
   "source": [
    "def profit(invest):\n",
    "    Profit=0\n",
    "    for key, value in Schemes.items():\n",
    "        ROI=Schemes[key][0]\n",
    "        Years=Schemes[key][1]\n",
    "        Profit=invest * ROI * Years/100\n",
    "        print(Profit)\n",
    "        Schemes[key]+=[Profit]\n",
    "    #return Profit"
   ]
  },
  {
   "cell_type": "code",
   "execution_count": 30,
   "id": "9e97508a",
   "metadata": {},
   "outputs": [
    {
     "name": "stdout",
     "output_type": "stream",
     "text": [
      "6348.0\n",
      "48990.0\n",
      "73416.0\n",
      "15640.0\n",
      "17020.0\n"
     ]
    }
   ],
   "source": [
    "profit(investable_amount)"
   ]
  },
  {
   "cell_type": "code",
   "execution_count": null,
   "id": "41c655b8",
   "metadata": {},
   "outputs": [],
   "source": []
  },
  {
   "cell_type": "code",
   "execution_count": 31,
   "id": "059f97e4",
   "metadata": {},
   "outputs": [
    {
     "name": "stdout",
     "output_type": "stream",
     "text": [
      "SCHEME \t\t ROI \t TENURE DED_TAXABLE \t INT_TAXABLE \t RETURNS\n",
      "Scheme1 \t 6.9 \t 2 \t yes \t\t yes \t\t 6348.0\n",
      "Scheme2 \t 7.1 \t 15 \t yes \t\t no \t\t 48990.0\n",
      "Scheme3 \t 7.6 \t 21 \t yes \t\t no \t\t 73416.0\n",
      "Scheme4 \t 6.8 \t 5 \t yes \t\t no \t\t 15640.0\n",
      "Scheme5 \t 7.4 \t 5 \t yes \t\t no \t\t 17020.0\n"
     ]
    }
   ],
   "source": [
    "print('SCHEME','\\t\\t','ROI','\\t','TENURE','DED_TAXABLE','\\t','INT_TAXABLE','\\t','RETURNS')\n",
    "for key, value in Schemes.items():\n",
    "    print(key ,'\\t',value[0],'\\t',value[1],'\\t',value[2],'\\t\\t',value[3],'\\t\\t',value[4])\n",
    "   \n",
    "      "
   ]
  },
  {
   "cell_type": "markdown",
   "id": "1a7f7791",
   "metadata": {},
   "source": [
    "# <font color=Red>Assignment 1A-II\n",
    "A parking service provides wants to know the total amount of money collected by providing the parking facility at a given point of time. You as python programmer, write a program that can calculate the total money collected based on the below specified points:"
   ]
  },
  {
   "cell_type": "markdown",
   "id": "0851b223",
   "metadata": {},
   "source": [
    "<font color=red>1.\tStore the below given details about parking prices (in $ per hour) for each floor appropriate data structure.\n",
    "                {“Basement”: 50, “First floor”: 40, “Second floor”: 30, “Third Floor”: 20}\n"
   ]
  },
  {
   "cell_type": "code",
   "execution_count": 32,
   "id": "c76b3d43",
   "metadata": {},
   "outputs": [
    {
     "data": {
      "text/plain": [
       "{'Basement': 50, 'FirstFloor': 40, 'SecondFloor': 30, 'ThirdFloor': 20}"
      ]
     },
     "execution_count": 32,
     "metadata": {},
     "output_type": "execute_result"
    }
   ],
   "source": [
    "Floor_charge={'Basement':50, 'FirstFloor':40, 'SecondFloor':30, 'ThirdFloor':20}\n",
    "Floor_charge"
   ]
  },
  {
   "cell_type": "markdown",
   "id": "cc283e08",
   "metadata": {},
   "source": [
    "<font color=Red>2.\tPeople who use parking can be either resident of the apartment or just a visitor. Parking details of each floor is available in the format as given below. \n",
    "•\t'Basement': ['R',2,'v',3,'v',2,'v',4,'R',6,'v',1,'R',2,'v',1,'v',2,'R',4]\n",
    "•\t'First Floor': ['v',3,'v',3,'v',4,'R', 4,'R',1,'R',2,'v',1]\n",
    "•\t'Second Floor': ['v',12,'R', 6,'R',10,'R',12,'v',12]\n",
    "'R’ indicate resident and 'v' indicate visitor. The number indicate the parking duration in hours.\n",
    "Store the parking details using appropriate data structure.  [Note: record don’t have Third floor parking details]         \n"
   ]
  },
  {
   "cell_type": "code",
   "execution_count": 33,
   "id": "aa100fbf",
   "metadata": {},
   "outputs": [],
   "source": [
    "Record={'Basement': ['R',2,'v',3,'v',2,'v',4,'R',6,'v',1,'R',2,'v',1,'v',2,'R',4],\n",
    "        'FirstFloor': ['v',3,'v',3,'v',4,'R', 4,'R',1,'R',2,'v',1],\n",
    "        'SecondFloor': ['v',12,'R', 6,'R',10,'R',12,'v',12]}\n"
   ]
  },
  {
   "cell_type": "markdown",
   "id": "46c9ed53",
   "metadata": {},
   "source": [
    "<font color=red>3.\tUse the parking details provided, to calculate the total parking charges collected. Points to be considered while calculating the total parking charges are:\n",
    "•\tFor a resident, amount payable for the number of hours is 25% of the parking price of the floor he has parked.\n",
    "•\tFor a visitor, has amount payable for the number of hours is 100% of the parking price\n",
    "[Hint: Total parking charges should include both resident and visitor type for all the floors in the record.]\n"
   ]
  },
  {
   "cell_type": "code",
   "execution_count": 3,
   "id": "f63f99cb",
   "metadata": {},
   "outputs": [],
   "source": [
    "def charge_cal(Floor):\n",
    "     \n",
    "    for key,value in Floor_charge.items():\n",
    "        if(Floor == key):\n",
    "            print('KEY',key)\n",
    "            print('FL',Floor)\n",
    "            return(value)\n",
    "        "
   ]
  },
  {
   "cell_type": "markdown",
   "id": "6b7694e1",
   "metadata": {},
   "source": [
    "<font color=Red><b>Assignment 1A-II"
   ]
  },
  {
   "cell_type": "code",
   "execution_count": 22,
   "id": "a93b47e3",
   "metadata": {},
   "outputs": [
    {
     "name": "stdout",
     "output_type": "stream",
     "text": [
      "KEY Basement\n",
      "FL Basement\n",
      "50\n",
      "2\n",
      "3\n",
      "2\n",
      "4\n",
      "6\n",
      "1\n",
      "2\n",
      "1\n",
      "2\n",
      "4\n",
      "KEY FirstFloor\n",
      "FL FirstFloor\n",
      "40\n",
      "3\n",
      "3\n",
      "4\n",
      "4\n",
      "1\n",
      "2\n",
      "1\n",
      "KEY SecondFloor\n",
      "FL SecondFloor\n",
      "30\n",
      "12\n",
      "6\n",
      "10\n",
      "12\n",
      "12\n"
     ]
    },
    {
     "data": {
      "text/plain": [
       "3630"
      ]
     },
     "execution_count": 22,
     "metadata": {},
     "output_type": "execute_result"
    }
   ],
   "source": [
    "#Calculating Total charges \n",
    "Total_amount=0\n",
    "\n",
    "for key1, value1 in Record.items():\n",
    "    rate=charge_cal(key1)\n",
    "    print(rate)       \n",
    "   \n",
    "    for i in value1:\n",
    "        if isinstance(i,str):\n",
    "            temp=i\n",
    "            continue\n",
    "        else:\n",
    "            hour=i\n",
    "            print(hour)        \n",
    "                     \n",
    "            if temp=='R':\n",
    "                Total_amount = Total_amount + hour * (25/100)*rate\n",
    "            else:\n",
    "                Total_amount = Total_amount + hour * rate\n",
    "          \n",
    "Total_amount"
   ]
  },
  {
   "cell_type": "markdown",
   "id": "22b5a638",
   "metadata": {},
   "source": [
    "Below logic can also be used"
   ]
  },
  {
   "cell_type": "code",
   "execution_count": 17,
   "id": "1f774302",
   "metadata": {},
   "outputs": [
    {
     "name": "stdout",
     "output_type": "stream",
     "text": [
      "KEY Basement\n",
      "FL Basement\n",
      "50\n",
      "KEY FirstFloor\n",
      "FL FirstFloor\n",
      "40\n",
      "KEY SecondFloor\n",
      "FL SecondFloor\n",
      "30\n"
     ]
    },
    {
     "data": {
      "text/plain": [
       "3630"
      ]
     },
     "execution_count": 17,
     "metadata": {},
     "output_type": "execute_result"
    }
   ],
   "source": [
    "#Calculating Total charges \n",
    "#Total_amount=0\n",
    "\n",
    "#for key1, value1 in Record.items():\n",
    "    #rate=charge_cal(key1)\n",
    "    #print(rate)\n",
    "       \n",
    "    #for i in range(len(value1)):\n",
    "        #v =value1[i]\n",
    "    \n",
    "        \n",
    "    #check if an element is a string,if yes, pick the next element to get the hour.\n",
    "        #if isinstance(v,str):\n",
    "            #hour=value1[i+1]\n",
    "                     \n",
    "            #if i=='R':\n",
    "                #Total_amount = Total_amount + hour * (25/100)*rate\n",
    "            #else:\n",
    "                #Total_amount = Total_amount + hour * rate\n",
    "          \n",
    "#Total_amount"
   ]
  },
  {
   "cell_type": "code",
   "execution_count": null,
   "id": "9a6ae86f",
   "metadata": {},
   "outputs": [],
   "source": []
  },
  {
   "cell_type": "markdown",
   "id": "1ca1083a",
   "metadata": {},
   "source": [
    "# <font color=Red>Assignment 1A- III"
   ]
  },
  {
   "cell_type": "markdown",
   "id": "873b343f",
   "metadata": {},
   "source": [
    "<font color=navy>"
   ]
  },
  {
   "cell_type": "code",
   "execution_count": null,
   "id": "bb9a6946",
   "metadata": {},
   "outputs": [],
   "source": [
    "#Data\n",
    "data=['Python for Data Science ','Python ','python ','   linux internals ','Linear algebra ', 'Statistics']\n",
    "print(data)"
   ]
  },
  {
   "cell_type": "markdown",
   "id": "077a083f",
   "metadata": {},
   "source": [
    "<font color=red>Remove the leading and training spaces in each string in a list"
   ]
  },
  {
   "cell_type": "code",
   "execution_count": null,
   "id": "6fba9f60",
   "metadata": {},
   "outputs": [],
   "source": [
    "#remove leading and trailing space\n",
    "\n",
    "for i in range(len(data)):\n",
    "    data[i]=data[i].strip()\n",
    "print(data)"
   ]
  },
  {
   "cell_type": "markdown",
   "id": "db144445",
   "metadata": {},
   "source": [
    "<font color=red>Change all the first letter  in each string in a list to Uppercase"
   ]
  },
  {
   "cell_type": "code",
   "execution_count": null,
   "id": "e0745288",
   "metadata": {},
   "outputs": [],
   "source": [
    "def first_letter_upper(data):\n",
    "    temp_data=[]\n",
    "    for i in data:\n",
    "        x=i[0].upper()+i[1:]\n",
    "        temp_data.append(x)\n",
    "    return(temp_data)"
   ]
  },
  {
   "cell_type": "code",
   "execution_count": null,
   "id": "1d3f528d",
   "metadata": {},
   "outputs": [],
   "source": [
    "data1=first_letter_upper(data)\n",
    "print(\"Data with first letter of the word in uppercase: \")\n",
    "print(data1)"
   ]
  },
  {
   "cell_type": "markdown",
   "id": "95b79fb9",
   "metadata": {},
   "source": [
    "<font color=red>Replace the space between the words with underscore('_')"
   ]
  },
  {
   "cell_type": "code",
   "execution_count": null,
   "id": "7d753fd8",
   "metadata": {},
   "outputs": [],
   "source": [
    "data2=[ ]\n",
    "for i in data1:\n",
    "    data=i.replace(' ','_')\n",
    "    print(data)\n",
    "    data2.append(data)\n",
    "print(data2)"
   ]
  },
  {
   "cell_type": "markdown",
   "id": "7b8db94f",
   "metadata": {},
   "source": [
    "<font color=red>Remove the redundant word in the list"
   ]
  },
  {
   "cell_type": "code",
   "execution_count": null,
   "id": "53caf9a6",
   "metadata": {},
   "outputs": [],
   "source": [
    "data3=list(set(data2))\n",
    "print(data3)"
   ]
  },
  {
   "cell_type": "code",
   "execution_count": null,
   "id": "091fc2d2",
   "metadata": {},
   "outputs": [],
   "source": []
  },
  {
   "cell_type": "markdown",
   "id": "bac24dd6",
   "metadata": {},
   "source": [
    "# <font color=Red>Assignment 1A-IV"
   ]
  },
  {
   "cell_type": "markdown",
   "id": "e5d8d3d7",
   "metadata": {},
   "source": [
    "<font color=Navy><b>The details of the salary (in $) and the age of 10 people is as given below:\n",
    "Age = [64, 49, 48, 46, 57, 60, 69, 25,23, 32]   \n",
    "Salary = [20000, 10000, 5000, 25000, 500, 1000, 300, 30000, 2500,20000] \n",
    "Write a python program to perform the following tasks using the above given data:\n"
   ]
  },
  {
   "cell_type": "code",
   "execution_count": 1,
   "id": "d7075704",
   "metadata": {},
   "outputs": [],
   "source": [
    "import numpy as np\n",
    "import scipy.stats as stats\n",
    "import matplotlib.pyplot as plt"
   ]
  },
  {
   "cell_type": "code",
   "execution_count": 2,
   "id": "7b1146fb",
   "metadata": {},
   "outputs": [],
   "source": [
    "Age=[64, 49, 48, 46, 57, 60, 69, 25,23, 32]\n",
    "Salary = [20000, 10000, 5000, 25000, 500, 1000, 300, 30000, 2500,20000]"
   ]
  },
  {
   "cell_type": "markdown",
   "id": "bf2abc85",
   "metadata": {},
   "source": [
    "<font color=red><b>i.\tFind the mean, median and mode of list containing values of ‘Age’ and print them.\n"
   ]
  },
  {
   "cell_type": "code",
   "execution_count": null,
   "id": "0078ef5a",
   "metadata": {},
   "outputs": [],
   "source": [
    "print(np.mean(Age))"
   ]
  },
  {
   "cell_type": "code",
   "execution_count": null,
   "id": "4313c74f",
   "metadata": {},
   "outputs": [],
   "source": [
    "print(np.median(Age))"
   ]
  },
  {
   "cell_type": "code",
   "execution_count": null,
   "id": "1949a049",
   "metadata": {},
   "outputs": [],
   "source": [
    "print(stats.mode(Age))"
   ]
  },
  {
   "cell_type": "markdown",
   "id": "9e40d3bc",
   "metadata": {},
   "source": [
    "<font color=Red><b>ii.\tFind the spread of the ‘Salary’ data finding both sample variance and population variance. Print them. [ Hint: statistics library can be considered.]\n"
   ]
  },
  {
   "cell_type": "code",
   "execution_count": 3,
   "id": "9276fb27",
   "metadata": {},
   "outputs": [],
   "source": [
    "from statistics import variance, pvariance"
   ]
  },
  {
   "cell_type": "code",
   "execution_count": null,
   "id": "0f4a162f",
   "metadata": {},
   "outputs": [],
   "source": [
    "#calculate sample variance\n",
    "variance(Salary)"
   ]
  },
  {
   "cell_type": "markdown",
   "id": "7cfb70b4",
   "metadata": {},
   "source": [
    "<font color=Navy>Inference: Since the list salary has values ranging from 300 to 20000\n",
    "    variance  and pvariance values is expected to be large value."
   ]
  },
  {
   "cell_type": "code",
   "execution_count": null,
   "id": "d755316c",
   "metadata": {},
   "outputs": [],
   "source": [
    "#calculate population variance\n",
    "pvariance(Salary)"
   ]
  },
  {
   "cell_type": "markdown",
   "id": "40c56b82",
   "metadata": {},
   "source": [
    "<font color=red>iii.\tPrint the Pearson correlation coefficient between Age and salary."
   ]
  },
  {
   "cell_type": "code",
   "execution_count": 4,
   "id": "6c3991f2",
   "metadata": {},
   "outputs": [
    {
     "data": {
      "text/plain": [
       "array([[ 1.        , -0.42093601],\n",
       "       [-0.42093601,  1.        ]])"
      ]
     },
     "execution_count": 4,
     "metadata": {},
     "output_type": "execute_result"
    }
   ],
   "source": [
    "np.corrcoef(Age, Salary)"
   ]
  },
  {
   "cell_type": "markdown",
   "id": "8bc9b49d",
   "metadata": {},
   "source": [
    "<font color=red>iv.\tPlot the histogram of the list ‘Age ‘"
   ]
  },
  {
   "cell_type": "code",
   "execution_count": null,
   "id": "bcf33d19",
   "metadata": {},
   "outputs": [],
   "source": [
    "plt.hist(\"age\")"
   ]
  },
  {
   "cell_type": "markdown",
   "id": "326476a4",
   "metadata": {},
   "source": [
    "<font color=red><b>\n",
    "    v.\tFind the interquartile range of the list ‘Salary’."
   ]
  },
  {
   "cell_type": "code",
   "execution_count": null,
   "id": "a88ecdfa",
   "metadata": {},
   "outputs": [],
   "source": [
    "np.quantile(x,q=0.75) - np.quantile(x,q=0.25)"
   ]
  }
 ],
 "metadata": {
  "kernelspec": {
   "display_name": "Python 3 (ipykernel)",
   "language": "python",
   "name": "python3"
  },
  "language_info": {
   "codemirror_mode": {
    "name": "ipython",
    "version": 3
   },
   "file_extension": ".py",
   "mimetype": "text/x-python",
   "name": "python",
   "nbconvert_exporter": "python",
   "pygments_lexer": "ipython3",
   "version": "3.8.8"
  }
 },
 "nbformat": 4,
 "nbformat_minor": 5
}
