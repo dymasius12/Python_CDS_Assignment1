{
 "cells": [
  {
   "cell_type": "markdown",
   "id": "89902570",
   "metadata": {},
   "source": [
    "# Assignment 1A-I"
   ]
  },
  {
   "cell_type": "markdown",
   "id": "5825f770",
   "metadata": {},
   "source": [
    "### Assignment 1A-I_dymasiusyusuf.sitepu@globalfoundries.com"
   ]
  },
  {
   "cell_type": "markdown",
   "id": "b9cab7f7",
   "metadata": {},
   "source": [
    "# Initializing the virtual environment:"
   ]
  },
  {
   "cell_type": "markdown",
   "id": "7009e851",
   "metadata": {},
   "source": [
    "### *Note: Only run this once!*"
   ]
  },
  {
   "cell_type": "markdown",
   "id": "4dbd8a74",
   "metadata": {},
   "source": [
    "####  >*I am running this on a virtual environment, please conda activate the cds_as1 venv or install the requirements.txt* "
   ]
  },
  {
   "cell_type": "code",
   "execution_count": 1,
   "id": "2296328a",
   "metadata": {},
   "outputs": [
    {
     "name": "stdout",
     "output_type": "stream",
     "text": [
      "Collecting pandas\n",
      "  Downloading pandas-1.5.0-cp38-cp38-win_amd64.whl (11.0 MB)\n",
      "     ---------------------------------------- 11.0/11.0 MB 3.4 MB/s eta 0:00:00\n",
      "Collecting pytz>=2020.1\n",
      "  Downloading pytz-2022.2.1-py2.py3-none-any.whl (500 kB)\n",
      "     -------------------------------------- 500.6/500.6 kB 2.1 MB/s eta 0:00:00\n",
      "Requirement already satisfied: python-dateutil>=2.8.1 in c:\\users\\dsitepu\\anaconda3\\envs\\cds_as1\\lib\\site-packages (from pandas) (2.8.2)\n",
      "Collecting numpy>=1.20.3\n",
      "  Downloading numpy-1.23.3-cp38-cp38-win_amd64.whl (14.7 MB)\n",
      "     ---------------------------------------- 14.7/14.7 MB 4.9 MB/s eta 0:00:00\n",
      "Requirement already satisfied: six>=1.5 in c:\\users\\dsitepu\\anaconda3\\envs\\cds_as1\\lib\\site-packages (from python-dateutil>=2.8.1->pandas) (1.16.0)\n",
      "Installing collected packages: pytz, numpy, pandas\n",
      "Successfully installed numpy-1.23.3 pandas-1.5.0 pytz-2022.2.1\n"
     ]
    }
   ],
   "source": [
    "!pip install pandas"
   ]
  },
  {
   "cell_type": "code",
   "execution_count": 3,
   "id": "12386c27",
   "metadata": {},
   "outputs": [
    {
     "name": "stdout",
     "output_type": "stream",
     "text": [
      "Requirement already satisfied: numpy in c:\\users\\dsitepu\\anaconda3\\envs\\cds_as1\\lib\\site-packages (1.23.3)\n"
     ]
    }
   ],
   "source": [
    "!pip install numpy"
   ]
  },
  {
   "cell_type": "code",
   "execution_count": null,
   "id": "ec42d48c",
   "metadata": {},
   "outputs": [],
   "source": [
    "!pip install jupyterthemes"
   ]
  },
  {
   "cell_type": "markdown",
   "id": "24be5915",
   "metadata": {},
   "source": [
    "#### This is the requirements:"
   ]
  },
  {
   "cell_type": "code",
   "execution_count": 5,
   "id": "b3ac9bca",
   "metadata": {},
   "outputs": [
    {
     "name": "stdout",
     "output_type": "stream",
     "text": [
      "Package              Version\n",
      "-------------------- -----------\n",
      "argon2-cffi          21.3.0\n",
      "argon2-cffi-bindings 21.2.0\n",
      "asttokens            2.0.8\n",
      "attrs                22.1.0\n",
      "backcall             0.2.0\n",
      "beautifulsoup4       4.11.1\n",
      "bleach               5.0.1\n",
      "certifi              2022.9.14\n",
      "cffi                 1.15.1\n",
      "colorama             0.4.5\n",
      "debugpy              1.6.3\n",
      "decorator            5.1.1\n",
      "defusedxml           0.7.1\n",
      "entrypoints          0.4\n",
      "executing            1.0.0\n",
      "fastjsonschema       2.16.2\n",
      "importlib-metadata   4.12.0\n",
      "importlib-resources  5.9.0\n",
      "ipykernel            6.15.3\n",
      "ipython              8.5.0\n",
      "ipython-genutils     0.2.0\n",
      "ipywidgets           8.0.2\n",
      "jedi                 0.18.1\n",
      "Jinja2               3.1.2\n",
      "jsonschema           4.16.0\n",
      "jupyter              1.0.0\n",
      "jupyter_client       7.3.5\n",
      "jupyter-console      6.4.4\n",
      "jupyter-core         4.11.1\n",
      "jupyterlab-pygments  0.2.2\n",
      "jupyterlab-widgets   3.0.3\n",
      "lxml                 4.9.1\n",
      "MarkupSafe           2.1.1\n",
      "matplotlib-inline    0.1.6\n",
      "mistune              2.0.4\n",
      "nbclient             0.6.8\n",
      "nbconvert            7.0.0\n",
      "nbformat             5.5.0\n",
      "nest-asyncio         1.5.5\n",
      "notebook             6.4.12\n",
      "numpy                1.23.3\n",
      "packaging            21.3\n",
      "pandas               1.5.0\n",
      "pandocfilters        1.5.0\n",
      "parso                0.8.3\n",
      "pickleshare          0.7.5\n",
      "pip                  22.2.2\n",
      "pkgutil_resolve_name 1.3.10\n",
      "prometheus-client    0.14.1\n",
      "prompt-toolkit       3.0.31\n",
      "psutil               5.9.2\n",
      "pure-eval            0.2.2\n",
      "pycparser            2.21\n",
      "Pygments             2.13.0\n",
      "pyparsing            3.0.9\n",
      "pyrsistent           0.18.1\n",
      "python-dateutil      2.8.2\n",
      "pytz                 2022.2.1\n",
      "pywin32              304\n",
      "pywinpty             2.0.8\n",
      "pyzmq                24.0.0\n",
      "qtconsole            5.3.2\n",
      "QtPy                 2.2.0\n",
      "Send2Trash           1.8.0\n",
      "setuptools           63.4.1\n",
      "six                  1.16.0\n",
      "soupsieve            2.3.2.post1\n",
      "stack-data           0.5.0\n",
      "terminado            0.15.0\n",
      "tinycss2             1.1.1\n",
      "tornado              6.2\n",
      "traitlets            5.4.0\n",
      "wcwidth              0.2.5\n",
      "webencodings         0.5.1\n",
      "wheel                0.37.1\n",
      "widgetsnbextension   4.0.3\n",
      "wincertstore         0.2\n",
      "zipp                 3.8.1\n"
     ]
    }
   ],
   "source": [
    "!pip list"
   ]
  },
  {
   "cell_type": "code",
   "execution_count": 13,
   "id": "72ae0662",
   "metadata": {},
   "outputs": [
    {
     "name": "stdout",
     "output_type": "stream",
     "text": [
      "Available Themes: \n",
      "   chesterish\n",
      "   grade3\n",
      "   gruvboxd\n",
      "   gruvboxl\n",
      "   monokai\n",
      "   oceans16\n",
      "   onedork\n",
      "   solarizedd\n",
      "   solarizedl\n"
     ]
    }
   ],
   "source": [
    "! jt -l"
   ]
  },
  {
   "cell_type": "code",
   "execution_count": 14,
   "id": "edd44295",
   "metadata": {},
   "outputs": [],
   "source": [
    "! jt -t monokai"
   ]
  },
  {
   "cell_type": "markdown",
   "id": "6db17571",
   "metadata": {},
   "source": [
    "# Section 1 starts here:"
   ]
  },
  {
   "attachments": {
    "image.png": {
     "image/png": "[encoded data removed]"
    }
   },
   "cell_type": "markdown",
   "id": "3f08610b",
   "metadata": {},
   "source": [
    "### Create a dictionary using the scheme details given in the above table. [Hint: Scheme name can be used as keys and features(details) of the scheme as value while creating the dictionary.]. Output expected is the dictionary.\n",
    "\n",
    "![image.png](attachment:image.png)\n"
   ]
  },
  {
   "cell_type": "code",
   "execution_count": 31,
   "id": "5762116f",
   "metadata": {},
   "outputs": [
    {
     "name": "stderr",
     "output_type": "stream",
     "text": [
      "C:\\Users\\dsitepu\\AppData\\Local\\Temp\\1\\ipykernel_4220\\4110269242.py:15: FutureWarning: Using short name for 'orient' is deprecated. Only the options: ('dict', list, 'series', 'split', 'records', 'index') will be used in a future version. Use one of the above to silence this warning.\n",
      "  df.to_dict('dictionary')\n"
     ]
    },
    {
     "data": {
      "text/plain": [
       "{'Interest Rate': {'Scheme1': 6.9,\n",
       "  'Scheme2': 7.1,\n",
       "  'Scheme3': 7.6,\n",
       "  'Scheme4': 6.8,\n",
       "  'Scheme5': 7.4},\n",
       " 'Tenure': {'Scheme1': 2,\n",
       "  'Scheme2': 15,\n",
       "  'Scheme3': 21,\n",
       "  'Scheme4': 5,\n",
       "  'Scheme5': 5},\n",
       " 'Tax Deduction': {'Scheme1': 'yes',\n",
       "  'Scheme2': 'yes',\n",
       "  'Scheme3': 'yes',\n",
       "  'Scheme4': 'yes',\n",
       "  'Scheme5': 'yes'},\n",
       " 'Interest Taxable': {'Scheme1': 'yes',\n",
       "  'Scheme2': 'no',\n",
       "  'Scheme3': 'no',\n",
       "  'Scheme4': 'no',\n",
       "  'Scheme5': 'no'}}"
      ]
     },
     "execution_count": 31,
     "metadata": {},
     "output_type": "execute_result"
    }
   ],
   "source": [
    "import pandas as pd\n",
    "\n",
    "# intialise data of lists.\n",
    "data = {'Scheme/details':['Scheme1', 'Scheme2', 'Scheme3', 'Scheme4', 'Scheme5'],\n",
    "        'Interest Rate':[6.9, 7.1, 7.6, 6.8, 7.4],\n",
    "        'Tenure':[2, 15, 21, 5, 5],\n",
    "        'Tax Deduction':['yes', 'yes', 'yes', 'yes', 'yes'],\n",
    "        'Interest Taxable':['yes', 'no', 'no', 'no', 'no']}\n",
    "\n",
    "# Create DataFrame\n",
    "df = pd.DataFrame(data)\n",
    "\n",
    "df = df.set_index('Scheme/details')\n",
    "\n",
    "df.to_dict('dictionary')\n",
    "\n",
    "  \n",
    "\n",
    "  \n",
    "# # Change the column names\n",
    "# df.columns = df['Col_1', 'Col_2']\n",
    "  \n",
    "# # Change the row indexes\n",
    "# df.index = ['Row_1', 'Row_2', 'Row_3', 'Row_4']\n",
    "\n",
    "# # Print the output.\n",
    "# df"
   ]
  },
  {
   "cell_type": "code",
   "execution_count": 32,
   "id": "6e5e2a33",
   "metadata": {},
   "outputs": [
    {
     "data": {
      "text/plain": [
       "{'Interest Rate': {'Scheme1': 6.9,\n",
       "  'Scheme2': 7.1,\n",
       "  'Scheme3': 7.6,\n",
       "  'Scheme4': 6.8,\n",
       "  'Scheme5': 7.4},\n",
       " 'Tenure': {'Scheme1': 2,\n",
       "  'Scheme2': 15,\n",
       "  'Scheme3': 21,\n",
       "  'Scheme4': 5,\n",
       "  'Scheme5': 5},\n",
       " 'Tax Deduction': {'Scheme1': 'yes',\n",
       "  'Scheme2': 'yes',\n",
       "  'Scheme3': 'yes',\n",
       "  'Scheme4': 'yes',\n",
       "  'Scheme5': 'yes'},\n",
       " 'Interest Taxable': {'Scheme1': 'yes',\n",
       "  'Scheme2': 'no',\n",
       "  'Scheme3': 'no',\n",
       "  'Scheme4': 'no',\n",
       "  'Scheme5': 'no'}}"
      ]
     },
     "execution_count": 32,
     "metadata": {},
     "output_type": "execute_result"
    }
   ],
   "source": [
    "dictionary"
   ]
  },
  {
   "cell_type": "code",
   "execution_count": null,
   "id": "d3d4629d",
   "metadata": {},
   "outputs": [],
   "source": [
    "# Well, I do the opposite way. I can also do: {'key': 'value'}\n",
    "key = ['Scheme/details', 'Interest Rate', 'Tenure']"
   ]
  }
 ],
 "metadata": {
  "kernelspec": {
   "display_name": "Python 3 (ipykernel)",
   "language": "python",
   "name": "python3"
  },
  "language_info": {
   "codemirror_mode": {
    "name": "ipython",
    "version": 3
   },
   "file_extension": ".py",
   "mimetype": "text/x-python",
   "name": "python",
   "nbconvert_exporter": "python",
   "pygments_lexer": "ipython3",
   "version": "3.8.8"
  }
 },
 "nbformat": 4,
 "nbformat_minor": 5
}
